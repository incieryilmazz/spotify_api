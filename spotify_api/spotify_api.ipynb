{
 "cells": [
  {
   "cell_type": "code",
   "execution_count": 4,
   "metadata": {},
   "outputs": [
    {
     "name": "stdout",
     "output_type": "stream",
     "text": [
      "Collecting python-dotenv\n",
      "  Using cached python_dotenv-1.0.0-py3-none-any.whl (19 kB)\n",
      "Installing collected packages: python-dotenv\n",
      "Successfully installed python-dotenv-1.0.0\n",
      "Note: you may need to restart the kernel to use updated packages.\n"
     ]
    }
   ],
   "source": [
    "pip install python-dotenv"
   ]
  },
  {
   "cell_type": "code",
   "execution_count": 116,
   "metadata": {},
   "outputs": [],
   "source": [
    "import requests\n",
    "import pandas as pd\n",
    "import os \n",
    "from dotenv import load_dotenv\n",
    "import base64\n",
    "from requests import post , get\n",
    "import json\n",
    "from IPython.display import display"
   ]
  },
  {
   "cell_type": "code",
   "execution_count": 81,
   "metadata": {},
   "outputs": [],
   "source": [
    "client_id=\"880ccd2634b14957949ef1318dc77c3a\"\n",
    "client_secret=\"670e0e794beb4a4191ab186d76fbc260\""
   ]
  },
  {
   "cell_type": "code",
   "execution_count": 68,
   "metadata": {},
   "outputs": [
    {
     "name": "stdout",
     "output_type": "stream",
     "text": [
      "880ccd2634b14957949ef1318dc77c3a 670e0e794beb4a4191ab186d76fbc260\n"
     ]
    }
   ],
   "source": [
    "print(client_id , client_secret)"
   ]
  },
  {
   "cell_type": "code",
   "execution_count": 82,
   "metadata": {},
   "outputs": [
    {
     "name": "stdout",
     "output_type": "stream",
     "text": [
      "Access Token: BQDrDb6zsobS1mYCcu-qPS97Tj9XkqBU6bc42fN-rmACvWOQs5YPx5kzNx6RuB7-EkziTeLc-FIOTCEWjqV9ZPGeaSMLcPM3kdup8WYwi-ehHAsRwLs\n"
     ]
    }
   ],
   "source": [
    "auth_string = f\"{client_id}:{client_secret}\"\n",
    "auth_bytes = auth_string.encode(\"utf-8\")\n",
    "auth_base64 = base64.b64encode(auth_bytes).decode(\"utf-8\")\n",
    "\n",
    "url = 'https://accounts.spotify.com/api/token'\n",
    "headers = {\n",
    "    'Authorization': 'Basic ' + auth_base64\n",
    "}\n",
    "data = {\n",
    "    'grant_type': 'client_credentials'\n",
    "}\n",
    "\n",
    "response = requests.post(url, headers=headers, data=data)\n",
    "json_result = response.json()\n",
    "\n",
    "if response.status_code == 200:\n",
    "    token = json_result['access_token']\n",
    "    print('Access Token:', token)\n",
    "else:\n",
    "    print('Error:', response.status_code)\n",
    "    print('Response:', json_result)\n"
   ]
  },
  {
   "cell_type": "code",
   "execution_count": 83,
   "metadata": {},
   "outputs": [
    {
     "data": {
      "text/plain": [
       "'BQDrDb6zsobS1mYCcu-qPS97Tj9XkqBU6bc42fN-rmACvWOQs5YPx5kzNx6RuB7-EkziTeLc-FIOTCEWjqV9ZPGeaSMLcPM3kdup8WYwi-ehHAsRwLs'"
      ]
     },
     "execution_count": 83,
     "metadata": {},
     "output_type": "execute_result"
    }
   ],
   "source": [
    "token"
   ]
  },
  {
   "cell_type": "code",
   "execution_count": 110,
   "metadata": {},
   "outputs": [
    {
     "name": "stdout",
     "output_type": "stream",
     "text": [
      "{'artists': {'href': 'https://api.spotify.com/v1/search?query=rihanna&type=artist&offset=0&limit=1', 'items': [{'external_urls': {'spotify': 'https://open.spotify.com/artist/5pKCCKE2ajJHZ9KAiaK11H'}, 'followers': {'href': None, 'total': 58744132}, 'genres': ['barbadian pop', 'pop', 'urban contemporary'], 'href': 'https://api.spotify.com/v1/artists/5pKCCKE2ajJHZ9KAiaK11H', 'id': '5pKCCKE2ajJHZ9KAiaK11H', 'images': [{'height': 640, 'url': 'https://i.scdn.co/image/ab6761610000e5eb99e4fca7c0b7cb166d915789', 'width': 640}, {'height': 320, 'url': 'https://i.scdn.co/image/ab6761610000517499e4fca7c0b7cb166d915789', 'width': 320}, {'height': 160, 'url': 'https://i.scdn.co/image/ab6761610000f17899e4fca7c0b7cb166d915789', 'width': 160}], 'name': 'Rihanna', 'popularity': 88, 'type': 'artist', 'uri': 'spotify:artist:5pKCCKE2ajJHZ9KAiaK11H'}], 'limit': 1, 'next': 'https://api.spotify.com/v1/search?query=rihanna&type=artist&offset=1&limit=1', 'offset': 0, 'previous': None, 'total': 20}}\n"
     ]
    }
   ],
   "source": [
    "def get_token():\n",
    "    auth_string = client_id + \":\" + client_secret\n",
    "    auth_bytes = auth_string.encode(\"utf-8\")\n",
    "    auth_base64 = str(base64.b64encode(auth_bytes), \"utf-8\")\n",
    "\n",
    "    url = \"https://accounts.spotify.com/api/token\"\n",
    "    headers = {\n",
    "        \"Authorization\": \"Basic \" + auth_base64,\n",
    "        \"Content-Type\": \"application/x-www-form-urlencoded\"\n",
    "    }\n",
    "    data = {\"grant_type\": \"client_credentials\"}\n",
    "\n",
    "    try:\n",
    "        result = requests.post(url, headers=headers, data=data)\n",
    "        result.raise_for_status()  # HTTP hata durumlarını kontrol et\n",
    "\n",
    "        json_result = result.json()\n",
    "        token = json_result.get(\"access_token\")\n",
    "\n",
    "        if token is not None:\n",
    "            return token\n",
    "        else:\n",
    "            print(\"Erişim belirteci alınamadı.\")\n",
    "            return None\n",
    "\n",
    "    except requests.exceptions.RequestException as e:\n",
    "        print(\"Hata:\", e)\n",
    "        return None\n",
    "\n",
    "def get_auth_header(token):\n",
    "    return {\n",
    "        \"Authorization\": f\"Bearer {token}\"\n",
    "    }\n",
    "\n",
    "def search_for_artist(token, artist_name):\n",
    "    url = \"https://api.spotify.com/v1/search\"\n",
    "    headers = get_auth_header(token)\n",
    "    query = f\"?q={artist_name}&type=artist&limit=1\"\n",
    "    query_url = url + query\n",
    "\n",
    "    try:\n",
    "        result = requests.get(query_url, headers=headers)\n",
    "        result.raise_for_status()  # HTTP hata durumlarını kontrol et\n",
    "\n",
    "        json_result = result.json()\n",
    "\n",
    "        if \"error\" in json_result:\n",
    "            print(f\"Spotify API Hatası: {json_result['error']['message']}\")\n",
    "        else:\n",
    "            print(json_result)\n",
    "\n",
    "    except requests.exceptions.RequestException as e:\n",
    "        print(\"Hata:\", e)\n",
    "\n",
    "# Ardından, token almak ve search_for_artist fonksiyonunu çağırmak için şu kodu kullanabilirsiniz:\n",
    "token = get_token()  # get_token fonksiyonunuzu kullanarak token alın\n",
    "\n",
    "if token is not None:\n",
    "    search_for_artist(token, \"rihanna\")\n",
    "else:\n",
    "    print(\"Erişim belirteci alınamadı.\")\n"
   ]
  },
  {
   "cell_type": "code",
   "execution_count": null,
   "metadata": {},
   "outputs": [],
   "source": [
    "### {'artists': {'href': 'https://api.spotify.com/v1/search?query=rihanna&type=artist&offset=0&limit=1', 'items': [{'external_urls': {'spotify': 'https://open.spotify.com/artist/5pKCCKE2ajJHZ9KAiaK11H'}, 'followers': {'href': None, 'total': 58744132}, 'genres': ['barbadian pop', 'pop', 'urban contemporary'], 'href': 'https://api.spotify.com/v1/artists/5pKCCKE2ajJHZ9KAiaK11H', 'id': '5pKCCKE2ajJHZ9KAiaK11H', 'images': [{'height': 640, 'url': 'https://i.scdn.co/image/ab6761610000e5eb99e4fca7c0b7cb166d915789', 'width': 640}, {'height': 320, 'url': 'https://i.scdn.co/image/ab6761610000517499e4fca7c0b7cb166d915789', 'width': 320}, {'height': 160, 'url': 'https://i.scdn.co/image/ab6761610000f17899e4fca7c0b7cb166d915789', 'width': 160}], 'name': 'Rihanna', 'popularity': 88, 'type': 'artist', 'uri': 'spotify:artist:5pKCCKE2ajJHZ9KAiaK11H'}], 'limit': 1, 'next': 'https://api.spotify.com/v1/search?query=rihanna&type=artist&offset=1&limit=1', 'offset': 0, 'previous': None, 'total': 20}}"
   ]
  },
  {
   "cell_type": "code",
   "execution_count": 111,
   "metadata": {},
   "outputs": [
    {
     "name": "stdout",
     "output_type": "stream",
     "text": [
      "Rihanna'nın Spotify ID'si: 5pKCCKE2ajJHZ9KAiaK11H\n"
     ]
    }
   ],
   "source": [
    "def get_artist_id(token, artist_name):\n",
    "    url = \"https://api.spotify.com/v1/search\"\n",
    "    headers = get_auth_header(token)\n",
    "    query = f\"?q={artist_name}&type=artist&limit=1\"\n",
    "    query_url = url + query\n",
    "\n",
    "    try:\n",
    "        result = requests.get(query_url, headers=headers)\n",
    "        result.raise_for_status()\n",
    "\n",
    "        json_result = result.json()\n",
    "\n",
    "        if \"artists\" in json_result and \"items\" in json_result[\"artists\"]:\n",
    "            # İlk bulunan sanatçının ID'sini al\n",
    "            first_artist = json_result[\"artists\"][\"items\"][0]\n",
    "            artist_id = first_artist[\"id\"]\n",
    "            return artist_id\n",
    "        else:\n",
    "            print(\"Sanatçı bulunamadı.\")\n",
    "\n",
    "    except requests.exceptions.RequestException as e:\n",
    "        print(\"Hata:\", e)\n",
    "\n",
    "# Örneğin, Rihanna'nın ID'sini almak için:\n",
    "rihanna_id = get_artist_id(token, \"Rihanna\")\n",
    "print(\"Rihanna'nın Spotify ID'si:\", rihanna_id)\n"
   ]
  },
  {
   "cell_type": "code",
   "execution_count": 112,
   "metadata": {},
   "outputs": [
    {
     "name": "stdout",
     "output_type": "stream",
     "text": [
      "Şarkı Adı: We Found Love\n",
      "Şarkı Adı: Diamonds\n",
      "Şarkı Adı: Umbrella\n",
      "Şarkı Adı: Love On The Brain\n",
      "Şarkı Adı: Only Girl (In The World)\n",
      "Şarkı Adı: Stay\n",
      "Şarkı Adı: S&M\n",
      "Şarkı Adı: This Is What You Came For\n",
      "Şarkı Adı: Needed Me\n",
      "Şarkı Adı: Don't Stop The Music\n"
     ]
    }
   ],
   "source": [
    "def get_artist_tracks(token, artist_id):\n",
    "    url = f\"https://api.spotify.com/v1/artists/{artist_id}/top-tracks\"\n",
    "    headers = get_auth_header(token)\n",
    "    country = \"US\"  # Kullanıcı ülke kodu, örneğin \"US\" (Amerika Birleşik Devletleri)\n",
    "    query = f\"?country={country}\"\n",
    "    query_url = url + query\n",
    "\n",
    "    try:\n",
    "        result = requests.get(query_url, headers=headers)\n",
    "        result.raise_for_status()\n",
    "\n",
    "        json_result = result.json()\n",
    "\n",
    "        if \"tracks\" in json_result:\n",
    "            tracks = json_result[\"tracks\"]\n",
    "            for track in tracks:\n",
    "                print(\"Şarkı Adı:\", track[\"name\"])\n",
    "\n",
    "        else:\n",
    "            print(\"Şarkılar bulunamadı.\")\n",
    "\n",
    "    except requests.exceptions.RequestException as e:\n",
    "        print(\"Hata:\", e)\n",
    "\n",
    "# Örneğin, Rihanna'nın Spotify ID'sini aldıktan sonra şarkılarını getir:\n",
    "rihanna_id = get_artist_id(token, \"Rihanna\")\n",
    "get_artist_tracks(token, rihanna_id)\n"
   ]
  },
  {
   "cell_type": "code",
   "execution_count": 114,
   "metadata": {},
   "outputs": [
    {
     "name": "stdout",
     "output_type": "stream",
     "text": [
      "                   Şarkı Adı  Popülerlik  \\\n",
      "0              We Found Love          85   \n",
      "1                   Diamonds          76   \n",
      "2                   Umbrella          74   \n",
      "3          Love On The Brain          86   \n",
      "4   Only Girl (In The World)          84   \n",
      "5                       Stay          73   \n",
      "6                        S&M          82   \n",
      "7  This Is What You Came For          84   \n",
      "8                  Needed Me          83   \n",
      "9       Don't Stop The Music          71   \n",
      "\n",
      "                                           Şarkı URL    Dakika  \n",
      "0  https://open.spotify.com/track/6qn9YLKt13AGvpq...  3.587100  \n",
      "1  https://open.spotify.com/track/1z9kQ14XBSN0r2v...  3.752433  \n",
      "2  https://open.spotify.com/track/2yPoXCs7BSIUruc...  4.599767  \n",
      "3  https://open.spotify.com/track/5oO3drDxtziYU2H...  3.733333  \n",
      "4  https://open.spotify.com/track/2ENexcMEMsYk0rV...  3.924883  \n",
      "5  https://open.spotify.com/track/789CxjEOtO76BVD...  4.011767  \n",
      "6  https://open.spotify.com/track/7ySUcLPVX7Kudhn...  4.060000  \n",
      "7  https://open.spotify.com/track/0azC730Exh71aQl...  3.702667  \n",
      "8  https://open.spotify.com/track/4pAl7FkDMNBsjyk...  3.193333  \n",
      "9  https://open.spotify.com/track/1Jo0Zg7XlrA6z0m...  4.451333  \n"
     ]
    }
   ],
   "source": [
    "def get_artist_tracks(token, artist_id):\n",
    "    url = f\"https://api.spotify.com/v1/artists/{artist_id}/top-tracks\"\n",
    "    headers = get_auth_header(token)\n",
    "    country = \"US\"  # Kullanıcı ülke kodu, örneğin \"US\" (Amerika Birleşik Devletleri)\n",
    "    query = f\"?country={country}\"\n",
    "    query_url = url + query\n",
    "\n",
    "    try:\n",
    "        result = requests.get(query_url, headers=headers)\n",
    "        result.raise_for_status()\n",
    "\n",
    "        json_result = result.json()\n",
    "\n",
    "        if \"tracks\" in json_result:\n",
    "            tracks = json_result[\"tracks\"]\n",
    "            track_data = []\n",
    "\n",
    "            for track in tracks:\n",
    "                track_data.append({\n",
    "                    \"Şarkı Adı\": track[\"name\"],\n",
    "                    \"Popülerlik\": track[\"popularity\"],\n",
    "                    \"Şarkı URL\": track[\"external_urls\"][\"spotify\"],\n",
    "                    \"Dakika\": track[\"duration_ms\"] / 60000  # Millisaniyeden dakikaya çevirme\n",
    "                })\n",
    "\n",
    "            df = pd.DataFrame(track_data)\n",
    "            return df\n",
    "\n",
    "        else:\n",
    "            print(\"Şarkılar bulunamadı.\")\n",
    "            return None\n",
    "\n",
    "    except requests.exceptions.RequestException as e:\n",
    "        print(\"Hata:\", e)\n",
    "        return None\n",
    "\n",
    "# Örneğin, Rihanna'nın Spotify ID'sini aldıktan sonra şarkılarını DataFrame'e dönüştür:\n",
    "rihanna_id = get_artist_id(token, \"Rihanna\")\n",
    "rihanna_tracks_df = get_artist_tracks(token, rihanna_id)\n",
    "\n",
    "# DataFrame'i yazdır:\n",
    "print(rihanna_tracks_df)\n"
   ]
  },
  {
   "cell_type": "code",
   "execution_count": 115,
   "metadata": {},
   "outputs": [
    {
     "data": {
      "text/html": [
       "<div>\n",
       "<style scoped>\n",
       "    .dataframe tbody tr th:only-of-type {\n",
       "        vertical-align: middle;\n",
       "    }\n",
       "\n",
       "    .dataframe tbody tr th {\n",
       "        vertical-align: top;\n",
       "    }\n",
       "\n",
       "    .dataframe thead th {\n",
       "        text-align: right;\n",
       "    }\n",
       "</style>\n",
       "<table border=\"1\" class=\"dataframe\">\n",
       "  <thead>\n",
       "    <tr style=\"text-align: right;\">\n",
       "      <th></th>\n",
       "      <th>Şarkı Adı</th>\n",
       "      <th>Popülerlik</th>\n",
       "      <th>Şarkı URL</th>\n",
       "      <th>Dakika</th>\n",
       "    </tr>\n",
       "  </thead>\n",
       "  <tbody>\n",
       "    <tr>\n",
       "      <th>0</th>\n",
       "      <td>We Found Love</td>\n",
       "      <td>85</td>\n",
       "      <td>https://open.spotify.com/track/6qn9YLKt13AGvpq...</td>\n",
       "      <td>3.587100</td>\n",
       "    </tr>\n",
       "    <tr>\n",
       "      <th>1</th>\n",
       "      <td>Diamonds</td>\n",
       "      <td>76</td>\n",
       "      <td>https://open.spotify.com/track/1z9kQ14XBSN0r2v...</td>\n",
       "      <td>3.752433</td>\n",
       "    </tr>\n",
       "    <tr>\n",
       "      <th>2</th>\n",
       "      <td>Umbrella</td>\n",
       "      <td>74</td>\n",
       "      <td>https://open.spotify.com/track/2yPoXCs7BSIUruc...</td>\n",
       "      <td>4.599767</td>\n",
       "    </tr>\n",
       "    <tr>\n",
       "      <th>3</th>\n",
       "      <td>Love On The Brain</td>\n",
       "      <td>86</td>\n",
       "      <td>https://open.spotify.com/track/5oO3drDxtziYU2H...</td>\n",
       "      <td>3.733333</td>\n",
       "    </tr>\n",
       "    <tr>\n",
       "      <th>4</th>\n",
       "      <td>Only Girl (In The World)</td>\n",
       "      <td>84</td>\n",
       "      <td>https://open.spotify.com/track/2ENexcMEMsYk0rV...</td>\n",
       "      <td>3.924883</td>\n",
       "    </tr>\n",
       "    <tr>\n",
       "      <th>5</th>\n",
       "      <td>Stay</td>\n",
       "      <td>73</td>\n",
       "      <td>https://open.spotify.com/track/789CxjEOtO76BVD...</td>\n",
       "      <td>4.011767</td>\n",
       "    </tr>\n",
       "    <tr>\n",
       "      <th>6</th>\n",
       "      <td>S&amp;M</td>\n",
       "      <td>82</td>\n",
       "      <td>https://open.spotify.com/track/7ySUcLPVX7Kudhn...</td>\n",
       "      <td>4.060000</td>\n",
       "    </tr>\n",
       "    <tr>\n",
       "      <th>7</th>\n",
       "      <td>This Is What You Came For</td>\n",
       "      <td>84</td>\n",
       "      <td>https://open.spotify.com/track/0azC730Exh71aQl...</td>\n",
       "      <td>3.702667</td>\n",
       "    </tr>\n",
       "    <tr>\n",
       "      <th>8</th>\n",
       "      <td>Needed Me</td>\n",
       "      <td>83</td>\n",
       "      <td>https://open.spotify.com/track/4pAl7FkDMNBsjyk...</td>\n",
       "      <td>3.193333</td>\n",
       "    </tr>\n",
       "    <tr>\n",
       "      <th>9</th>\n",
       "      <td>Don't Stop The Music</td>\n",
       "      <td>71</td>\n",
       "      <td>https://open.spotify.com/track/1Jo0Zg7XlrA6z0m...</td>\n",
       "      <td>4.451333</td>\n",
       "    </tr>\n",
       "  </tbody>\n",
       "</table>\n",
       "</div>"
      ],
      "text/plain": [
       "                   Şarkı Adı  Popülerlik  \\\n",
       "0              We Found Love          85   \n",
       "1                   Diamonds          76   \n",
       "2                   Umbrella          74   \n",
       "3          Love On The Brain          86   \n",
       "4   Only Girl (In The World)          84   \n",
       "5                       Stay          73   \n",
       "6                        S&M          82   \n",
       "7  This Is What You Came For          84   \n",
       "8                  Needed Me          83   \n",
       "9       Don't Stop The Music          71   \n",
       "\n",
       "                                           Şarkı URL    Dakika  \n",
       "0  https://open.spotify.com/track/6qn9YLKt13AGvpq...  3.587100  \n",
       "1  https://open.spotify.com/track/1z9kQ14XBSN0r2v...  3.752433  \n",
       "2  https://open.spotify.com/track/2yPoXCs7BSIUruc...  4.599767  \n",
       "3  https://open.spotify.com/track/5oO3drDxtziYU2H...  3.733333  \n",
       "4  https://open.spotify.com/track/2ENexcMEMsYk0rV...  3.924883  \n",
       "5  https://open.spotify.com/track/789CxjEOtO76BVD...  4.011767  \n",
       "6  https://open.spotify.com/track/7ySUcLPVX7Kudhn...  4.060000  \n",
       "7  https://open.spotify.com/track/0azC730Exh71aQl...  3.702667  \n",
       "8  https://open.spotify.com/track/4pAl7FkDMNBsjyk...  3.193333  \n",
       "9  https://open.spotify.com/track/1Jo0Zg7XlrA6z0m...  4.451333  "
      ]
     },
     "metadata": {},
     "output_type": "display_data"
    }
   ],
   "source": [
    "#from IPython.display import display\n",
    "# Diğer fonksiyonları ekleyin ve kullanıcıdan token almayı unutmayın...\n",
    "# Örneğin, Rihanna'nın Spotify ID'sini aldıktan sonra şarkılarını DataFrame'e dönüştür:\n",
    "rihanna_id = get_artist_id(token, \"Rihanna\")\n",
    "rihanna_tracks_df = get_artist_tracks(token, rihanna_id)\n",
    "\n",
    "# DataFrame'i göster:\n",
    "display(rihanna_tracks_df)\n"
   ]
  }
 ],
 "metadata": {
  "kernelspec": {
   "display_name": "Python 3",
   "language": "python",
   "name": "python3"
  },
  "language_info": {
   "codemirror_mode": {
    "name": "ipython",
    "version": 3
   },
   "file_extension": ".py",
   "mimetype": "text/x-python",
   "name": "python",
   "nbconvert_exporter": "python",
   "pygments_lexer": "ipython3",
   "version": "3.10.13"
  }
 },
 "nbformat": 4,
 "nbformat_minor": 2
}
